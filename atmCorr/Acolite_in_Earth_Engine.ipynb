{
  "nbformat": 4,
  "nbformat_minor": 0,
  "metadata": {
    "colab": {
      "name": "Acolite in Earth Engine.ipynb",
      "provenance": [],
      "collapsed_sections": []
    },
    "kernelspec": {
      "name": "python3",
      "display_name": "Python 3"
    },
    "language_info": {
      "name": "python"
    }
  },
  "cells": [
    {
      "cell_type": "markdown",
      "metadata": {
        "id": "Ja3RyTAugyHF"
      },
      "source": [
        "# Overview\n",
        "\n",
        "This notebook explores the feasability of implementing ACOLITE  in Earth Engine. ACOLITE is a atmospheric correction algorithm for aquatic applications. A Python implementation of ACOLITE is available at https://github.com/acolite."
      ]
    },
    {
      "cell_type": "markdown",
      "metadata": {
        "id": "4XIeBH4UgbVU"
      },
      "source": [
        "# Notebook Setup\n",
        "\n"
      ]
    },
    {
      "cell_type": "code",
      "metadata": {
        "colab": {
          "base_uri": "https://localhost:8080/"
        },
        "id": "b3dIPYXA9N4f",
        "outputId": "4933d2ab-bb5c-4b09-951e-2688821374d5"
      },
      "source": [
        "!pip install netCDF4"
      ],
      "execution_count": null,
      "outputs": [
        {
          "output_type": "stream",
          "name": "stdout",
          "text": [
            "Requirement already satisfied: netCDF4 in /usr/local/lib/python3.7/dist-packages (1.5.7)\n",
            "Requirement already satisfied: numpy>=1.9 in /usr/local/lib/python3.7/dist-packages (from netCDF4) (1.19.5)\n",
            "Requirement already satisfied: cftime in /usr/local/lib/python3.7/dist-packages (from netCDF4) (1.5.1)\n"
          ]
        }
      ]
    },
    {
      "cell_type": "markdown",
      "metadata": {
        "id": "SVPNqesFgjtp"
      },
      "source": [
        "# Analysis"
      ]
    },
    {
      "cell_type": "code",
      "metadata": {
        "id": "6kTODyuOCzrR"
      },
      "source": [
        "from pprint import pprint"
      ],
      "execution_count": null,
      "outputs": []
    },
    {
      "cell_type": "markdown",
      "metadata": {
        "id": "KzYc5BAKh0DC"
      },
      "source": [
        "## Look Up Tables approximation\n",
        "\n",
        "The ACOLITE Python implementation makes extensive use of look up tables (LUTs), both generic (sensor agnostic) and sensor specific. See: https://github.com/acolite/acolite_luts\n",
        "\n",
        "This section investigates whether the LUTs can be approximated by trained [supervised classification models](https://developers.google.com/earth-engine/guides/classification), which can be efficiently used in Earth Engine scripts."
      ]
    },
    {
      "cell_type": "code",
      "metadata": {
        "id": "9chYq8-Z9TLW"
      },
      "source": [
        "url = \"https://github.com/acolite/acolite_luts/blob/main/ACOLITE-LUT-202102/S2A_MSI/ACOLITE-LUT-202102-MOD2-1100mb_S2A_MSI.nc?raw=true\""
      ],
      "execution_count": null,
      "outputs": []
    },
    {
      "cell_type": "markdown",
      "metadata": {
        "id": "NyEbGxI8Ipir"
      },
      "source": [
        "## Download file"
      ]
    },
    {
      "cell_type": "code",
      "metadata": {
        "id": "FFHYGvyt-BKu"
      },
      "source": [
        "import urllib.request\n",
        "import shutil\n",
        "\n",
        "file_name = 'local.nc'\n",
        "\n",
        "# Download the file from `url` and save it locally under `file_name`:\n",
        "with urllib.request.urlopen(url) as response, open(file_name, 'wb') as out_file:\n",
        "    shutil.copyfileobj(response, out_file)"
      ],
      "execution_count": null,
      "outputs": []
    },
    {
      "cell_type": "markdown",
      "metadata": {
        "id": "rYbzZyQ5ItK4"
      },
      "source": [
        "## Inspect the netCDF"
      ]
    },
    {
      "cell_type": "code",
      "metadata": {
        "colab": {
          "base_uri": "https://localhost:8080/"
        },
        "id": "k44azl17-EO8",
        "outputId": "8d075782-d283-4f34-87d6-051792c61cb4"
      },
      "source": [
        "# Read data from an opendap server\n",
        "import netCDF4\n",
        "\n",
        "dataset = netCDF4.Dataset(file_name, mode='r')\n",
        "\n",
        "# List the variables\n",
        "pprint(dataset.variables)"
      ],
      "execution_count": null,
      "outputs": [
        {
          "output_type": "stream",
          "name": "stdout",
          "text": [
            "{'1': <class 'netCDF4._netCDF4.Variable'>\n",
            "float32 1(par, azi, thv, ths, wnd, tau)\n",
            "unlimited dimensions: \n",
            "current shape = (22, 13, 13, 16, 1, 16)\n",
            "filling on, default _FillValue of 9.969209968386869e+36 used,\n",
            " '10': <class 'netCDF4._netCDF4.Variable'>\n",
            "float32 10(par, azi, thv, ths, wnd, tau)\n",
            "unlimited dimensions: \n",
            "current shape = (22, 13, 13, 16, 1, 16)\n",
            "filling on, default _FillValue of 9.969209968386869e+36 used,\n",
            " '11': <class 'netCDF4._netCDF4.Variable'>\n",
            "float32 11(par, azi, thv, ths, wnd, tau)\n",
            "unlimited dimensions: \n",
            "current shape = (22, 13, 13, 16, 1, 16)\n",
            "filling on, default _FillValue of 9.969209968386869e+36 used,\n",
            " '12': <class 'netCDF4._netCDF4.Variable'>\n",
            "float32 12(par, azi, thv, ths, wnd, tau)\n",
            "unlimited dimensions: \n",
            "current shape = (22, 13, 13, 16, 1, 16)\n",
            "filling on, default _FillValue of 9.969209968386869e+36 used,\n",
            " '2': <class 'netCDF4._netCDF4.Variable'>\n",
            "float32 2(par, azi, thv, ths, wnd, tau)\n",
            "unlimited dimensions: \n",
            "current shape = (22, 13, 13, 16, 1, 16)\n",
            "filling on, default _FillValue of 9.969209968386869e+36 used,\n",
            " '3': <class 'netCDF4._netCDF4.Variable'>\n",
            "float32 3(par, azi, thv, ths, wnd, tau)\n",
            "unlimited dimensions: \n",
            "current shape = (22, 13, 13, 16, 1, 16)\n",
            "filling on, default _FillValue of 9.969209968386869e+36 used,\n",
            " '4': <class 'netCDF4._netCDF4.Variable'>\n",
            "float32 4(par, azi, thv, ths, wnd, tau)\n",
            "unlimited dimensions: \n",
            "current shape = (22, 13, 13, 16, 1, 16)\n",
            "filling on, default _FillValue of 9.969209968386869e+36 used,\n",
            " '5': <class 'netCDF4._netCDF4.Variable'>\n",
            "float32 5(par, azi, thv, ths, wnd, tau)\n",
            "unlimited dimensions: \n",
            "current shape = (22, 13, 13, 16, 1, 16)\n",
            "filling on, default _FillValue of 9.969209968386869e+36 used,\n",
            " '6': <class 'netCDF4._netCDF4.Variable'>\n",
            "float32 6(par, azi, thv, ths, wnd, tau)\n",
            "unlimited dimensions: \n",
            "current shape = (22, 13, 13, 16, 1, 16)\n",
            "filling on, default _FillValue of 9.969209968386869e+36 used,\n",
            " '7': <class 'netCDF4._netCDF4.Variable'>\n",
            "float32 7(par, azi, thv, ths, wnd, tau)\n",
            "unlimited dimensions: \n",
            "current shape = (22, 13, 13, 16, 1, 16)\n",
            "filling on, default _FillValue of 9.969209968386869e+36 used,\n",
            " '8': <class 'netCDF4._netCDF4.Variable'>\n",
            "float32 8(par, azi, thv, ths, wnd, tau)\n",
            "unlimited dimensions: \n",
            "current shape = (22, 13, 13, 16, 1, 16)\n",
            "filling on, default _FillValue of 9.969209968386869e+36 used,\n",
            " '8A': <class 'netCDF4._netCDF4.Variable'>\n",
            "float32 8A(par, azi, thv, ths, wnd, tau)\n",
            "unlimited dimensions: \n",
            "current shape = (22, 13, 13, 16, 1, 16)\n",
            "filling on, default _FillValue of 9.969209968386869e+36 used,\n",
            " '9': <class 'netCDF4._netCDF4.Variable'>\n",
            "float32 9(par, azi, thv, ths, wnd, tau)\n",
            "unlimited dimensions: \n",
            "current shape = (22, 13, 13, 16, 1, 16)\n",
            "filling on, default _FillValue of 9.969209968386869e+36 used}\n"
          ]
        }
      ]
    },
    {
      "cell_type": "code",
      "metadata": {
        "colab": {
          "base_uri": "https://localhost:8080/"
        },
        "id": "Iku4jean-TO6",
        "outputId": "6b85ba49-d3dd-48f0-eddc-6832c0a5c143"
      },
      "source": [
        "dataset.dimensions"
      ],
      "execution_count": null,
      "outputs": [
        {
          "output_type": "execute_result",
          "data": {
            "text/plain": [
              "{'azi': <class 'netCDF4._netCDF4.Dimension'>: name = 'azi', size = 13,\n",
              " 'par': <class 'netCDF4._netCDF4.Dimension'>: name = 'par', size = 22,\n",
              " 'tau': <class 'netCDF4._netCDF4.Dimension'>: name = 'tau', size = 16,\n",
              " 'ths': <class 'netCDF4._netCDF4.Dimension'>: name = 'ths', size = 16,\n",
              " 'thv': <class 'netCDF4._netCDF4.Dimension'>: name = 'thv', size = 13,\n",
              " 'wnd': <class 'netCDF4._netCDF4.Dimension'>: name = 'wnd', size = 1}"
            ]
          },
          "metadata": {},
          "execution_count": 17
        }
      ]
    },
    {
      "cell_type": "code",
      "metadata": {
        "id": "A12rugl1JoLF",
        "colab": {
          "base_uri": "https://localhost:8080/"
        },
        "outputId": "0c0608f5-b4a5-473d-c185-0d3f0935ca84"
      },
      "source": [
        "# Inspect the first variable\n",
        "variable = dataset.variables['1']\n",
        "\n",
        "print(f'variable.shape: {variable.shape}')\n",
        "\n",
        "# print the first few values\n",
        "print(variable[21][0][0][0][0][0])"
      ],
      "execution_count": null,
      "outputs": [
        {
          "output_type": "stream",
          "name": "stdout",
          "text": [
            "variable.shape: (22, 13, 13, 16, 1, 16)\n",
            "0.10015615\n"
          ]
        }
      ]
    },
    {
      "cell_type": "code",
      "metadata": {
        "colab": {
          "base_uri": "https://localhost:8080/"
        },
        "id": "mes-Lh26Dtto",
        "outputId": "1a89fd61-2507-48de-c9e6-a9e5f37bfd08"
      },
      "source": [
        "variable.dimensions"
      ],
      "execution_count": null,
      "outputs": [
        {
          "output_type": "execute_result",
          "data": {
            "text/plain": [
              "('par', 'azi', 'thv', 'ths', 'wnd', 'tau')"
            ]
          },
          "metadata": {},
          "execution_count": 18
        }
      ]
    },
    {
      "cell_type": "code",
      "metadata": {
        "id": "1dzSAhG6D-LY"
      },
      "source": [
        ""
      ],
      "execution_count": null,
      "outputs": []
    }
  ]
}